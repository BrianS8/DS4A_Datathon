{
 "cells": [
  {
   "cell_type": "markdown",
   "metadata": {},
   "source": [
    "# Datathon Team 09"
   ]
  },
  {
   "cell_type": "code",
   "execution_count": 3,
   "metadata": {},
   "outputs": [],
   "source": [
    "# Load packages\n",
    "import os\n",
    "import pandas as pd\n",
    "import numpy as np\n",
    "import pandas_profiling\n",
    "\n",
    "# This line is needed to display plots inline in Jupyter Notebook\n",
    "%matplotlib inline\n",
    "\n",
    "# Required for basic python plotting functionality\n",
    "import matplotlib.pyplot as plt\n",
    "\n",
    "# Required for formatting dates later in the case\n",
    "import datetime\n",
    "import matplotlib.dates as mdates\n",
    "\n",
    "# Required to display image inline\n",
    "from IPython.display import Image\n",
    "\n",
    "# Advanced plotting functionality with seaborn\n",
    "import seaborn as sns\n",
    "sns.set(style=\"whitegrid\") # can set style depending on how you'd like it to look"
   ]
  },
  {
   "cell_type": "code",
   "execution_count": 5,
   "metadata": {},
   "outputs": [],
   "source": [
    "# Load the data into python\n",
    "demographics_file = os.path.join(os.getcwd(),'demographics.csv')        \n",
    "geographic_file = os.path.join(os.getcwd(),'geographic.csv')\n",
    "green_trips_file = os.path.join(os.getcwd(),'green_trips_new_2.csv')\n",
    "mta_trips_file = os.path.join(os.getcwd(),'mta_trips.csv')        \n",
    "uber_trips_2014_file = os.path.join(os.getcwd(),'uber_trips_2014.csv')\n",
    "uber_trips_2015_file = os.path.join(os.getcwd(),'uber_trips_2015.csv')\n",
    "weather_file = os.path.join(os.getcwd(),'weather.csv')\n",
    "yellow_trips_new_file = os.path.join(os.getcwd(),'yellow_trips_new.csv')\n",
    "zones_file = os.path.join(os.getcwd(),'zones.csv')"
   ]
  },
  {
   "cell_type": "code",
   "execution_count": 7,
   "metadata": {},
   "outputs": [
    {
     "name": "stdout",
     "output_type": "stream",
     "text": [
      "C:\\Users\\H232374\\repos\\DS4A_workspace\\DS4A_Datathon\\zones.csv\n"
     ]
    }
   ],
   "source": [
    "print(zones_file)"
   ]
  },
  {
   "cell_type": "code",
   "execution_count": 6,
   "metadata": {},
   "outputs": [
    {
     "ename": "FileNotFoundError",
     "evalue": "[Errno 2] File b'C:\\\\Users\\\\H232374\\\\repos\\\\DS4A_workspace\\\\DS4A_Datathon\\\\demographics.csv' does not exist: b'C:\\\\Users\\\\H232374\\\\repos\\\\DS4A_workspace\\\\DS4A_Datathon\\\\demographics.csv'",
     "output_type": "error",
     "traceback": [
      "\u001b[1;31m---------------------------------------------------------------------------\u001b[0m",
      "\u001b[1;31mFileNotFoundError\u001b[0m                         Traceback (most recent call last)",
      "\u001b[1;32m<ipython-input-6-599897be8ba9>\u001b[0m in \u001b[0;36m<module>\u001b[1;34m\u001b[0m\n\u001b[0;32m      1\u001b[0m \u001b[1;31m# Generate Data frames\u001b[0m\u001b[1;33m\u001b[0m\u001b[1;33m\u001b[0m\u001b[1;33m\u001b[0m\u001b[0m\n\u001b[1;32m----> 2\u001b[1;33m \u001b[0mdemographics_df\u001b[0m \u001b[1;33m=\u001b[0m \u001b[0mpd\u001b[0m\u001b[1;33m.\u001b[0m\u001b[0mread_csv\u001b[0m\u001b[1;33m(\u001b[0m\u001b[0mdemographics_file\u001b[0m\u001b[1;33m)\u001b[0m\u001b[1;33m\u001b[0m\u001b[1;33m\u001b[0m\u001b[0m\n\u001b[0m\u001b[0;32m      3\u001b[0m \u001b[0mgeographic_df\u001b[0m \u001b[1;33m=\u001b[0m \u001b[0mpd\u001b[0m\u001b[1;33m.\u001b[0m\u001b[0mread_csv\u001b[0m\u001b[1;33m(\u001b[0m\u001b[0mgeographic_file\u001b[0m\u001b[1;33m)\u001b[0m\u001b[1;33m\u001b[0m\u001b[1;33m\u001b[0m\u001b[0m\n\u001b[0;32m      4\u001b[0m \u001b[0mgreen_trips_df\u001b[0m \u001b[1;33m=\u001b[0m \u001b[0mpd\u001b[0m\u001b[1;33m.\u001b[0m\u001b[0mread_csv\u001b[0m\u001b[1;33m(\u001b[0m\u001b[0mgreen_trips_file\u001b[0m\u001b[1;33m)\u001b[0m\u001b[1;33m\u001b[0m\u001b[1;33m\u001b[0m\u001b[0m\n\u001b[0;32m      5\u001b[0m \u001b[0mmta_trips_df\u001b[0m \u001b[1;33m=\u001b[0m \u001b[0mpd\u001b[0m\u001b[1;33m.\u001b[0m\u001b[0mread_csv\u001b[0m\u001b[1;33m(\u001b[0m\u001b[0mmta_trips_file\u001b[0m\u001b[1;33m)\u001b[0m\u001b[1;33m\u001b[0m\u001b[1;33m\u001b[0m\u001b[0m\n",
      "\u001b[1;32m~\\.conda\\envs\\DS4A_test\\lib\\site-packages\\pandas\\io\\parsers.py\u001b[0m in \u001b[0;36mparser_f\u001b[1;34m(filepath_or_buffer, sep, delimiter, header, names, index_col, usecols, squeeze, prefix, mangle_dupe_cols, dtype, engine, converters, true_values, false_values, skipinitialspace, skiprows, skipfooter, nrows, na_values, keep_default_na, na_filter, verbose, skip_blank_lines, parse_dates, infer_datetime_format, keep_date_col, date_parser, dayfirst, cache_dates, iterator, chunksize, compression, thousands, decimal, lineterminator, quotechar, quoting, doublequote, escapechar, comment, encoding, dialect, error_bad_lines, warn_bad_lines, delim_whitespace, low_memory, memory_map, float_precision)\u001b[0m\n\u001b[0;32m    683\u001b[0m         )\n\u001b[0;32m    684\u001b[0m \u001b[1;33m\u001b[0m\u001b[0m\n\u001b[1;32m--> 685\u001b[1;33m         \u001b[1;32mreturn\u001b[0m \u001b[0m_read\u001b[0m\u001b[1;33m(\u001b[0m\u001b[0mfilepath_or_buffer\u001b[0m\u001b[1;33m,\u001b[0m \u001b[0mkwds\u001b[0m\u001b[1;33m)\u001b[0m\u001b[1;33m\u001b[0m\u001b[1;33m\u001b[0m\u001b[0m\n\u001b[0m\u001b[0;32m    686\u001b[0m \u001b[1;33m\u001b[0m\u001b[0m\n\u001b[0;32m    687\u001b[0m     \u001b[0mparser_f\u001b[0m\u001b[1;33m.\u001b[0m\u001b[0m__name__\u001b[0m \u001b[1;33m=\u001b[0m \u001b[0mname\u001b[0m\u001b[1;33m\u001b[0m\u001b[1;33m\u001b[0m\u001b[0m\n",
      "\u001b[1;32m~\\.conda\\envs\\DS4A_test\\lib\\site-packages\\pandas\\io\\parsers.py\u001b[0m in \u001b[0;36m_read\u001b[1;34m(filepath_or_buffer, kwds)\u001b[0m\n\u001b[0;32m    455\u001b[0m \u001b[1;33m\u001b[0m\u001b[0m\n\u001b[0;32m    456\u001b[0m     \u001b[1;31m# Create the parser.\u001b[0m\u001b[1;33m\u001b[0m\u001b[1;33m\u001b[0m\u001b[1;33m\u001b[0m\u001b[0m\n\u001b[1;32m--> 457\u001b[1;33m     \u001b[0mparser\u001b[0m \u001b[1;33m=\u001b[0m \u001b[0mTextFileReader\u001b[0m\u001b[1;33m(\u001b[0m\u001b[0mfp_or_buf\u001b[0m\u001b[1;33m,\u001b[0m \u001b[1;33m**\u001b[0m\u001b[0mkwds\u001b[0m\u001b[1;33m)\u001b[0m\u001b[1;33m\u001b[0m\u001b[1;33m\u001b[0m\u001b[0m\n\u001b[0m\u001b[0;32m    458\u001b[0m \u001b[1;33m\u001b[0m\u001b[0m\n\u001b[0;32m    459\u001b[0m     \u001b[1;32mif\u001b[0m \u001b[0mchunksize\u001b[0m \u001b[1;32mor\u001b[0m \u001b[0miterator\u001b[0m\u001b[1;33m:\u001b[0m\u001b[1;33m\u001b[0m\u001b[1;33m\u001b[0m\u001b[0m\n",
      "\u001b[1;32m~\\.conda\\envs\\DS4A_test\\lib\\site-packages\\pandas\\io\\parsers.py\u001b[0m in \u001b[0;36m__init__\u001b[1;34m(self, f, engine, **kwds)\u001b[0m\n\u001b[0;32m    893\u001b[0m             \u001b[0mself\u001b[0m\u001b[1;33m.\u001b[0m\u001b[0moptions\u001b[0m\u001b[1;33m[\u001b[0m\u001b[1;34m\"has_index_names\"\u001b[0m\u001b[1;33m]\u001b[0m \u001b[1;33m=\u001b[0m \u001b[0mkwds\u001b[0m\u001b[1;33m[\u001b[0m\u001b[1;34m\"has_index_names\"\u001b[0m\u001b[1;33m]\u001b[0m\u001b[1;33m\u001b[0m\u001b[1;33m\u001b[0m\u001b[0m\n\u001b[0;32m    894\u001b[0m \u001b[1;33m\u001b[0m\u001b[0m\n\u001b[1;32m--> 895\u001b[1;33m         \u001b[0mself\u001b[0m\u001b[1;33m.\u001b[0m\u001b[0m_make_engine\u001b[0m\u001b[1;33m(\u001b[0m\u001b[0mself\u001b[0m\u001b[1;33m.\u001b[0m\u001b[0mengine\u001b[0m\u001b[1;33m)\u001b[0m\u001b[1;33m\u001b[0m\u001b[1;33m\u001b[0m\u001b[0m\n\u001b[0m\u001b[0;32m    896\u001b[0m \u001b[1;33m\u001b[0m\u001b[0m\n\u001b[0;32m    897\u001b[0m     \u001b[1;32mdef\u001b[0m \u001b[0mclose\u001b[0m\u001b[1;33m(\u001b[0m\u001b[0mself\u001b[0m\u001b[1;33m)\u001b[0m\u001b[1;33m:\u001b[0m\u001b[1;33m\u001b[0m\u001b[1;33m\u001b[0m\u001b[0m\n",
      "\u001b[1;32m~\\.conda\\envs\\DS4A_test\\lib\\site-packages\\pandas\\io\\parsers.py\u001b[0m in \u001b[0;36m_make_engine\u001b[1;34m(self, engine)\u001b[0m\n\u001b[0;32m   1133\u001b[0m     \u001b[1;32mdef\u001b[0m \u001b[0m_make_engine\u001b[0m\u001b[1;33m(\u001b[0m\u001b[0mself\u001b[0m\u001b[1;33m,\u001b[0m \u001b[0mengine\u001b[0m\u001b[1;33m=\u001b[0m\u001b[1;34m\"c\"\u001b[0m\u001b[1;33m)\u001b[0m\u001b[1;33m:\u001b[0m\u001b[1;33m\u001b[0m\u001b[1;33m\u001b[0m\u001b[0m\n\u001b[0;32m   1134\u001b[0m         \u001b[1;32mif\u001b[0m \u001b[0mengine\u001b[0m \u001b[1;33m==\u001b[0m \u001b[1;34m\"c\"\u001b[0m\u001b[1;33m:\u001b[0m\u001b[1;33m\u001b[0m\u001b[1;33m\u001b[0m\u001b[0m\n\u001b[1;32m-> 1135\u001b[1;33m             \u001b[0mself\u001b[0m\u001b[1;33m.\u001b[0m\u001b[0m_engine\u001b[0m \u001b[1;33m=\u001b[0m \u001b[0mCParserWrapper\u001b[0m\u001b[1;33m(\u001b[0m\u001b[0mself\u001b[0m\u001b[1;33m.\u001b[0m\u001b[0mf\u001b[0m\u001b[1;33m,\u001b[0m \u001b[1;33m**\u001b[0m\u001b[0mself\u001b[0m\u001b[1;33m.\u001b[0m\u001b[0moptions\u001b[0m\u001b[1;33m)\u001b[0m\u001b[1;33m\u001b[0m\u001b[1;33m\u001b[0m\u001b[0m\n\u001b[0m\u001b[0;32m   1136\u001b[0m         \u001b[1;32melse\u001b[0m\u001b[1;33m:\u001b[0m\u001b[1;33m\u001b[0m\u001b[1;33m\u001b[0m\u001b[0m\n\u001b[0;32m   1137\u001b[0m             \u001b[1;32mif\u001b[0m \u001b[0mengine\u001b[0m \u001b[1;33m==\u001b[0m \u001b[1;34m\"python\"\u001b[0m\u001b[1;33m:\u001b[0m\u001b[1;33m\u001b[0m\u001b[1;33m\u001b[0m\u001b[0m\n",
      "\u001b[1;32m~\\.conda\\envs\\DS4A_test\\lib\\site-packages\\pandas\\io\\parsers.py\u001b[0m in \u001b[0;36m__init__\u001b[1;34m(self, src, **kwds)\u001b[0m\n\u001b[0;32m   1915\u001b[0m         \u001b[0mkwds\u001b[0m\u001b[1;33m[\u001b[0m\u001b[1;34m\"usecols\"\u001b[0m\u001b[1;33m]\u001b[0m \u001b[1;33m=\u001b[0m \u001b[0mself\u001b[0m\u001b[1;33m.\u001b[0m\u001b[0musecols\u001b[0m\u001b[1;33m\u001b[0m\u001b[1;33m\u001b[0m\u001b[0m\n\u001b[0;32m   1916\u001b[0m \u001b[1;33m\u001b[0m\u001b[0m\n\u001b[1;32m-> 1917\u001b[1;33m         \u001b[0mself\u001b[0m\u001b[1;33m.\u001b[0m\u001b[0m_reader\u001b[0m \u001b[1;33m=\u001b[0m \u001b[0mparsers\u001b[0m\u001b[1;33m.\u001b[0m\u001b[0mTextReader\u001b[0m\u001b[1;33m(\u001b[0m\u001b[0msrc\u001b[0m\u001b[1;33m,\u001b[0m \u001b[1;33m**\u001b[0m\u001b[0mkwds\u001b[0m\u001b[1;33m)\u001b[0m\u001b[1;33m\u001b[0m\u001b[1;33m\u001b[0m\u001b[0m\n\u001b[0m\u001b[0;32m   1918\u001b[0m         \u001b[0mself\u001b[0m\u001b[1;33m.\u001b[0m\u001b[0munnamed_cols\u001b[0m \u001b[1;33m=\u001b[0m \u001b[0mself\u001b[0m\u001b[1;33m.\u001b[0m\u001b[0m_reader\u001b[0m\u001b[1;33m.\u001b[0m\u001b[0munnamed_cols\u001b[0m\u001b[1;33m\u001b[0m\u001b[1;33m\u001b[0m\u001b[0m\n\u001b[0;32m   1919\u001b[0m \u001b[1;33m\u001b[0m\u001b[0m\n",
      "\u001b[1;32mpandas/_libs/parsers.pyx\u001b[0m in \u001b[0;36mpandas._libs.parsers.TextReader.__cinit__\u001b[1;34m()\u001b[0m\n",
      "\u001b[1;32mpandas/_libs/parsers.pyx\u001b[0m in \u001b[0;36mpandas._libs.parsers.TextReader._setup_parser_source\u001b[1;34m()\u001b[0m\n",
      "\u001b[1;31mFileNotFoundError\u001b[0m: [Errno 2] File b'C:\\\\Users\\\\H232374\\\\repos\\\\DS4A_workspace\\\\DS4A_Datathon\\\\demographics.csv' does not exist: b'C:\\\\Users\\\\H232374\\\\repos\\\\DS4A_workspace\\\\DS4A_Datathon\\\\demographics.csv'"
     ]
    }
   ],
   "source": [
    "# Generate Data frames\n",
    "demographics_df = pd.read_csv(demographics_file)\n",
    "geographic_df = pd.read_csv(geographic_file)\n",
    "green_trips_df = pd.read_csv(green_trips_file)\n",
    "mta_trips_df = pd.read_csv(mta_trips_file)\n",
    "uber_trips_2014_df = pd.read_csv(uber_trips_2014_file)\n",
    "uber_trips_2015_df = pd.read_csv(uber_trips_2015_file)\n",
    "weather_df = pd.read_csv(weather_file)\n",
    "yellow_trips_df = pd.read_csv(yellow_trips_new_file)\n",
    "zones_df = pd.read_csv(zones_file)"
   ]
  },
  {
   "cell_type": "code",
   "execution_count": 2,
   "metadata": {},
   "outputs": [
    {
     "ename": "NameError",
     "evalue": "name 'pandas_profiling' is not defined",
     "output_type": "error",
     "traceback": [
      "\u001b[1;31m---------------------------------------------------------------------------\u001b[0m",
      "\u001b[1;31mNameError\u001b[0m                                 Traceback (most recent call last)",
      "\u001b[1;32m<ipython-input-2-e4fe00a4e52f>\u001b[0m in \u001b[0;36m<module>\u001b[1;34m\u001b[0m\n\u001b[0;32m      1\u001b[0m \u001b[1;31m# Data Profile\u001b[0m\u001b[1;33m\u001b[0m\u001b[1;33m\u001b[0m\u001b[1;33m\u001b[0m\u001b[0m\n\u001b[1;32m----> 2\u001b[1;33m \u001b[0mdemographicsProfile\u001b[0m \u001b[1;33m=\u001b[0m \u001b[0mpandas_profiling\u001b[0m\u001b[1;33m.\u001b[0m\u001b[0mProfileReport\u001b[0m\u001b[1;33m(\u001b[0m\u001b[0mdemographics_df\u001b[0m\u001b[1;33m)\u001b[0m\u001b[1;33m\u001b[0m\u001b[1;33m\u001b[0m\u001b[0m\n\u001b[0m\u001b[0;32m      3\u001b[0m \u001b[0mdemographicsProfile\u001b[0m\u001b[1;33m.\u001b[0m\u001b[0mto_file\u001b[0m\u001b[1;33m(\u001b[0m\u001b[0moutputfile\u001b[0m\u001b[1;33m=\u001b[0m\u001b[1;34m\"./demographicsProfile.html\"\u001b[0m\u001b[1;33m)\u001b[0m\u001b[1;33m\u001b[0m\u001b[1;33m\u001b[0m\u001b[0m\n\u001b[0;32m      4\u001b[0m \u001b[1;33m\u001b[0m\u001b[0m\n\u001b[0;32m      5\u001b[0m \u001b[0mgeographicProfile\u001b[0m \u001b[1;33m=\u001b[0m \u001b[0mpandas_profiling\u001b[0m\u001b[1;33m.\u001b[0m\u001b[0mProfileReport\u001b[0m\u001b[1;33m(\u001b[0m\u001b[0mgeographic_df\u001b[0m\u001b[1;33m)\u001b[0m\u001b[1;33m\u001b[0m\u001b[1;33m\u001b[0m\u001b[0m\n",
      "\u001b[1;31mNameError\u001b[0m: name 'pandas_profiling' is not defined"
     ]
    }
   ],
   "source": [
    "# Data Profile\n",
    "demographicsProfile = pandas_profiling.ProfileReport(demographics_df)\n",
    "demographicsProfile.to_file(outputfile=\"./demographicsProfile.html\")\n",
    "\n",
    "geographicProfile = pandas_profiling.ProfileReport(geographic_df)\n",
    "geographicProfile.to_file(outputfile=\"./dgeographicProfile.html\")\n",
    "\n",
    "green_tripsProfile = pandas_profiling.ProfileReport(green_trips_df)\n",
    "green_tripsProfile.to_file(outputfile=\"./green_tripsProfile.html\")\n",
    "\n",
    "mta_tripsProfile = pandas_profiling.ProfileReport(mta_trips_df)\n",
    "mta_tripsProfile.to_file(outputfile=\"./mta_tripsProfile.html\")\n",
    "\n",
    "uber_trips_2014Profile = pandas_profiling.ProfileReport(uber_trips_2014_df)\n",
    "uber_trips_2014Profile.to_file(outputfile=\"./uber_trips_2014Profile.html\")\n",
    "\n",
    "uber_trips_2015Profile = pandas_profiling.ProfileReport(uber_trips_2015_df)\n",
    "uber_trips_2015Profile.to_file(outputfile=\"./uber_trips_2015Profile.html\")\n",
    "\n",
    "weatherProfile = pandas_profiling.ProfileReport(weather_df)\n",
    "weatherProfile.to_file(outputfile=\"./weatherProfile.html\")\n",
    "\n",
    "yellow_tripsProfile = pandas_profiling.ProfileReport(yellow_trips_df)\n",
    "yellow_tripsProfile.to_file(outputfile=\"./yellow_tripsProfile.html\")\n",
    "\n",
    "zonesProfile = pandas_profiling.ProfileReport(zones_df)\n",
    "zonesProfile.to_file(outputfile=\"./zonesProfile.html\")"
   ]
  },
  {
   "cell_type": "markdown",
   "metadata": {},
   "source": [
    "# Geographic Dataset."
   ]
  },
  {
   "cell_type": "code",
   "execution_count": 16,
   "metadata": {},
   "outputs": [
    {
     "data": {
      "text/plain": [
       "'C:\\\\Users\\\\H232374\\\\repos\\\\DS4A_workspace\\\\DS4A_Datathon\\\\Dataset\\\\geographic.csv'"
      ]
     },
     "execution_count": 16,
     "metadata": {},
     "output_type": "execute_result"
    }
   ],
   "source": [
    "data_foder = 'Dataset'\n",
    "geographic_file = os.path.join(os.getcwd(),data_foder,'geographic.csv')\n",
    "geographic_file"
   ]
  },
  {
   "cell_type": "code",
   "execution_count": 17,
   "metadata": {},
   "outputs": [
    {
     "data": {
      "text/html": [
       "<div>\n",
       "<style scoped>\n",
       "    .dataframe tbody tr th:only-of-type {\n",
       "        vertical-align: middle;\n",
       "    }\n",
       "\n",
       "    .dataframe tbody tr th {\n",
       "        vertical-align: top;\n",
       "    }\n",
       "\n",
       "    .dataframe thead th {\n",
       "        text-align: right;\n",
       "    }\n",
       "</style>\n",
       "<table border=\"1\" class=\"dataframe\">\n",
       "  <thead>\n",
       "    <tr style=\"text-align: right;\">\n",
       "      <th></th>\n",
       "      <th>BK88</th>\n",
       "      <th>QN52</th>\n",
       "      <th>QN48</th>\n",
       "      <th>QN51</th>\n",
       "      <th>QN27</th>\n",
       "      <th>BX35</th>\n",
       "      <th>BX98</th>\n",
       "      <th>QN07</th>\n",
       "      <th>MN06</th>\n",
       "      <th>QN02</th>\n",
       "      <th>...</th>\n",
       "      <th>MN25</th>\n",
       "      <th>MN24</th>\n",
       "      <th>MN23</th>\n",
       "      <th>MN13</th>\n",
       "      <th>MN15</th>\n",
       "      <th>MN32</th>\n",
       "      <th>MN33</th>\n",
       "      <th>MN99</th>\n",
       "      <th>QN18</th>\n",
       "      <th>QN29</th>\n",
       "    </tr>\n",
       "  </thead>\n",
       "  <tbody>\n",
       "    <tr>\n",
       "      <td>0</td>\n",
       "      <td>-73.976051</td>\n",
       "      <td>-73.794934</td>\n",
       "      <td>-73.775740</td>\n",
       "      <td>-73.803792</td>\n",
       "      <td>-73.861099</td>\n",
       "      <td>-73.896967</td>\n",
       "      <td>-73.872873</td>\n",
       "      <td>-73.757258</td>\n",
       "      <td>-73.946080</td>\n",
       "      <td>-73.760316</td>\n",
       "      <td>...</td>\n",
       "      <td>-74.000784</td>\n",
       "      <td>-73.992605</td>\n",
       "      <td>-73.989904</td>\n",
       "      <td>-74.001535</td>\n",
       "      <td>-73.993833</td>\n",
       "      <td>-73.938048</td>\n",
       "      <td>-73.935054</td>\n",
       "      <td>-74.010930</td>\n",
       "      <td>-73.858726</td>\n",
       "      <td>-73.867911</td>\n",
       "    </tr>\n",
       "    <tr>\n",
       "      <td>1</td>\n",
       "      <td>40.631284</td>\n",
       "      <td>40.757806</td>\n",
       "      <td>40.743334</td>\n",
       "      <td>40.775618</td>\n",
       "      <td>40.763673</td>\n",
       "      <td>40.834350</td>\n",
       "      <td>40.785983</td>\n",
       "      <td>40.718147</td>\n",
       "      <td>40.821271</td>\n",
       "      <td>40.675118</td>\n",
       "      <td>...</td>\n",
       "      <td>40.694295</td>\n",
       "      <td>40.724145</td>\n",
       "      <td>40.734443</td>\n",
       "      <td>40.762653</td>\n",
       "      <td>40.772940</td>\n",
       "      <td>40.780838</td>\n",
       "      <td>40.791695</td>\n",
       "      <td>40.684500</td>\n",
       "      <td>40.735717</td>\n",
       "      <td>40.744942</td>\n",
       "    </tr>\n",
       "    <tr>\n",
       "      <td>2</td>\n",
       "      <td>-73.977167</td>\n",
       "      <td>-73.794749</td>\n",
       "      <td>-73.775799</td>\n",
       "      <td>-73.800991</td>\n",
       "      <td>-73.859931</td>\n",
       "      <td>-73.896787</td>\n",
       "      <td>-73.872886</td>\n",
       "      <td>-73.755890</td>\n",
       "      <td>-73.946404</td>\n",
       "      <td>-73.758806</td>\n",
       "      <td>...</td>\n",
       "      <td>-74.000960</td>\n",
       "      <td>-73.992634</td>\n",
       "      <td>-73.989870</td>\n",
       "      <td>-74.001339</td>\n",
       "      <td>-73.993789</td>\n",
       "      <td>-73.937903</td>\n",
       "      <td>-73.935108</td>\n",
       "      <td>-74.011934</td>\n",
       "      <td>-73.858672</td>\n",
       "      <td>-73.867877</td>\n",
       "    </tr>\n",
       "    <tr>\n",
       "      <td>3</td>\n",
       "      <td>40.630755</td>\n",
       "      <td>40.755636</td>\n",
       "      <td>40.743326</td>\n",
       "      <td>40.775397</td>\n",
       "      <td>40.762209</td>\n",
       "      <td>40.834133</td>\n",
       "      <td>40.785971</td>\n",
       "      <td>40.716307</td>\n",
       "      <td>40.820580</td>\n",
       "      <td>40.673014</td>\n",
       "      <td>...</td>\n",
       "      <td>40.694077</td>\n",
       "      <td>40.724065</td>\n",
       "      <td>40.733535</td>\n",
       "      <td>40.762217</td>\n",
       "      <td>40.772912</td>\n",
       "      <td>40.780758</td>\n",
       "      <td>40.791658</td>\n",
       "      <td>40.683896</td>\n",
       "      <td>40.735627</td>\n",
       "      <td>40.744824</td>\n",
       "    </tr>\n",
       "    <tr>\n",
       "      <td>4</td>\n",
       "      <td>-73.977000</td>\n",
       "      <td>-73.794579</td>\n",
       "      <td>-73.778060</td>\n",
       "      <td>-73.798653</td>\n",
       "      <td>-73.859668</td>\n",
       "      <td>-73.896303</td>\n",
       "      <td>-73.872983</td>\n",
       "      <td>-73.754702</td>\n",
       "      <td>-73.946720</td>\n",
       "      <td>-73.758598</td>\n",
       "      <td>...</td>\n",
       "      <td>-74.003015</td>\n",
       "      <td>-73.993093</td>\n",
       "      <td>-73.990028</td>\n",
       "      <td>-74.001279</td>\n",
       "      <td>-73.993727</td>\n",
       "      <td>-73.937796</td>\n",
       "      <td>-73.935173</td>\n",
       "      <td>-74.012177</td>\n",
       "      <td>-73.858585</td>\n",
       "      <td>-73.867852</td>\n",
       "    </tr>\n",
       "  </tbody>\n",
       "</table>\n",
       "<p>5 rows × 195 columns</p>\n",
       "</div>"
      ],
      "text/plain": [
       "        BK88       QN52       QN48       QN51       QN27       BX35  \\\n",
       "0 -73.976051 -73.794934 -73.775740 -73.803792 -73.861099 -73.896967   \n",
       "1  40.631284  40.757806  40.743334  40.775618  40.763673  40.834350   \n",
       "2 -73.977167 -73.794749 -73.775799 -73.800991 -73.859931 -73.896787   \n",
       "3  40.630755  40.755636  40.743326  40.775397  40.762209  40.834133   \n",
       "4 -73.977000 -73.794579 -73.778060 -73.798653 -73.859668 -73.896303   \n",
       "\n",
       "        BX98       QN07       MN06       QN02  ...       MN25       MN24  \\\n",
       "0 -73.872873 -73.757258 -73.946080 -73.760316  ... -74.000784 -73.992605   \n",
       "1  40.785983  40.718147  40.821271  40.675118  ...  40.694295  40.724145   \n",
       "2 -73.872886 -73.755890 -73.946404 -73.758806  ... -74.000960 -73.992634   \n",
       "3  40.785971  40.716307  40.820580  40.673014  ...  40.694077  40.724065   \n",
       "4 -73.872983 -73.754702 -73.946720 -73.758598  ... -74.003015 -73.993093   \n",
       "\n",
       "        MN23       MN13       MN15       MN32       MN33       MN99  \\\n",
       "0 -73.989904 -74.001535 -73.993833 -73.938048 -73.935054 -74.010930   \n",
       "1  40.734443  40.762653  40.772940  40.780838  40.791695  40.684500   \n",
       "2 -73.989870 -74.001339 -73.993789 -73.937903 -73.935108 -74.011934   \n",
       "3  40.733535  40.762217  40.772912  40.780758  40.791658  40.683896   \n",
       "4 -73.990028 -74.001279 -73.993727 -73.937796 -73.935173 -74.012177   \n",
       "\n",
       "        QN18       QN29  \n",
       "0 -73.858726 -73.867911  \n",
       "1  40.735717  40.744942  \n",
       "2 -73.858672 -73.867877  \n",
       "3  40.735627  40.744824  \n",
       "4 -73.858585 -73.867852  \n",
       "\n",
       "[5 rows x 195 columns]"
      ]
     },
     "execution_count": 17,
     "metadata": {},
     "output_type": "execute_result"
    }
   ],
   "source": [
    "geo = pd.read_csv(geographic_file)\n",
    "geo.head()"
   ]
  }
 ],
 "metadata": {
  "kernelspec": {
   "display_name": "Python 3",
   "language": "python",
   "name": "python3"
  },
  "language_info": {
   "codemirror_mode": {
    "name": "ipython",
    "version": 3
   },
   "file_extension": ".py",
   "mimetype": "text/x-python",
   "name": "python",
   "nbconvert_exporter": "python",
   "pygments_lexer": "ipython3",
   "version": "3.7.3"
  }
 },
 "nbformat": 4,
 "nbformat_minor": 2
}
